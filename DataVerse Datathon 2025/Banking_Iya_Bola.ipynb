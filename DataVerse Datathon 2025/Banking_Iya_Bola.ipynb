{
 "cells": [
  {
   "cell_type": "code",
   "execution_count": null,
   "id": "c6545585-7fdb-48ce-b291-450d9d2f66cd",
   "metadata": {},
   "outputs": [],
   "source": [
    "# IYA-BOLA ASSISTANT\n",
    "# Streamlit prototype: text + voice + live dashboard"
   ]
  },
  {
   "cell_type": "code",
   "execution_count": null,
   "id": "eef5d2c2-4870-43b6-a99f-07247fd8de72",
   "metadata": {},
   "outputs": [],
   "source": [
    "# Prepare the environment\n",
    "\n",
    "import streamlit as st\n",
    "from langdetect import detect\n",
    "import pandas as pd\n",
    "from datetime import datetime\n",
    "import tempfile\n",
    "import os"
   ]
  },
  {
   "cell_type": "code",
   "execution_count": null,
   "id": "b9346817-a719-46c2-b8f4-14f9432118cc",
   "metadata": {},
   "outputs": [],
   "source": [
    "# voice libraries: search for user audio and exempt if not found\n",
    "\n",
    "try:\n",
    "    import speech_recognition as sr\n",
    "    from gtts import gTTS\n",
    "except ImportError:\n",
    "    sr = None\n",
    "    gTTS = None"
   ]
  },
  {
   "cell_type": "code",
   "execution_count": null,
   "id": "d4818654-44c7-4c55-9cf2-a7e94b2b9690",
   "metadata": {},
   "outputs": [],
   "source": [
    "# Page set up and layout\n",
    "\n",
    "st.set_page_config(page_title=\"Iya Bola Assistant\", page_icon=\"💬\", layout=\"wide\")\n",
    "\n",
    "st.title(\"🤖 Iya Bola Assistant\")\n",
    "st.caption(\"Empowering Africa through Data-Driven Inclusion 🌍\")\n",
    "\n",
    "if \"log\" not in st.session_state:\n",
    "    st.session_state[\"log\"] = []"
   ]
  },
  {
   "cell_type": "code",
   "execution_count": null,
   "id": "7848d468-5efd-47e2-b833-a9228d4bb94d",
   "metadata": {},
   "outputs": [],
   "source": [
    "# Discern user intent through text prompt\n",
    "\n",
    "def classify_intent(message):\n",
    "    msg = message.lower()\n",
    "    if any(x in msg for x in [\"send\", \"transfer\", \"give\", \"wan send\"]):\n",
    "        return \"Money Transfer\"\n",
    "    elif any(x in msg for x in [\"buy airtime\", \"recharge\", \"data\"]):\n",
    "        return \"Airtime / Data Purchase\"\n",
    "    elif any(x in msg for x in [\"bill\", \"light\", \"pay nepa\", \"dstv\"]):\n",
    "        return \"Bill Payment\"\n",
    "    elif any(x in msg for x in [\"save\", \"keep\", \"contribute\"]):\n",
    "        return \"Micro-Savings\"\n",
    "    elif any(x in msg for x in [\"teach\", \"how to\", \"explain\", \"meaning\"]):\n",
    "        return \"Financial Education\"\n",
    "    else:\n",
    "        return \"General Chat\""
   ]
  },
  {
   "cell_type": "code",
   "execution_count": null,
   "id": "44e32716-30f1-49b2-aeeb-45226869f434",
   "metadata": {},
   "outputs": [],
   "source": [
    "# Discern user language preference and generate response through text alert\n",
    "\n",
    "def generate_response(message, language, intent):\n",
    "    responses = {\n",
    "        \"Money Transfer\": \"✅ Transaction successful! ₦2,000 has been sent. 💸\",\n",
    "        \"Airtime / Data Purchase\": \"📱 Airtime top-up complete. You’ve been credited with ₦500!\",\n",
    "        \"Bill Payment\": \"💡 Your NEPA bill has been paid successfully.\",\n",
    "        \"Micro-Savings\": \"💰 Great! ₦1,000 saved to your micro-savings account.\",\n",
    "        \"Financial Education\": \"📖 Financial Tip: Always save at least 10% of your income monthly.\",\n",
    "        \"General Chat\": \"👋 I'm happy to assist with your financial tasks anytime!\"\n",
    "    }\n",
    "\n",
    "    if language == \"yo\":\n",
    "        responses = {k: v.replace(\"Your\", \"Ìwọ̀n rẹ\") for k, v in responses.items()}\n",
    "    elif language == \"pcm\":\n",
    "        responses = {k: v.replace(\"Your\", \"Ya own\") for k, v in responses.items()}\n",
    "\n",
    "    return responses.get(intent, responses[\"General Chat\"])"
   ]
  },
  {
   "cell_type": "code",
   "execution_count": null,
   "id": "605def90-de10-4d85-9a44-9ca98b6688d0",
   "metadata": {},
   "outputs": [],
   "source": [
    "# Discern user intent through voice prompt\n",
    "\n",
    "def recognize_speech():\n",
    "    if sr is None:\n",
    "        st.warning(\"SpeechRecognition not installed.\")\n",
    "        return \"\"\n",
    "    recognizer = sr.Recognizer()\n",
    "    with sr.Microphone() as source:\n",
    "        st.info(\"🎙️ Listening... please speak now\")\n",
    "        audio = recognizer.listen(source, timeout=5, phrase_time_limit=7)\n",
    "        try:\n",
    "            text = recognizer.recognize_google(audio)\n",
    "            st.success(f\"You said: {text}\")\n",
    "            return text\n",
    "        except sr.UnknownValueError:\n",
    "            st.error(\"Sorry, I couldn't understand that.\")\n",
    "        except sr.RequestError:\n",
    "            st.error(\"Speech service unavailable.\")\n",
    "    return \"\"\n",
    "\n",
    "def speak_text(response_text):\n",
    "    if gTTS is None:\n",
    "        st.warning(\"gTTS not installed.\")\n",
    "        return\n",
    "    tts = gTTS(text=response_text, lang=\"en\")\n",
    "    temp_file = tempfile.NamedTemporaryFile(delete=False, suffix=\".mp3\")\n",
    "    tts.save(temp_file.name)\n",
    "    st.audio(temp_file.name, format=\"audio/mp3\")"
   ]
  },
  {
   "cell_type": "code",
   "execution_count": null,
   "id": "d16b7fa7-1ba0-454e-995f-a5bfe9dd7a08",
   "metadata": {},
   "outputs": [],
   "source": [
    "#Create user log\n",
    "\n",
    "col1, col2 = st.columns([2,1])\n",
    "\n",
    "with col1:\n",
    "    st.subheader(\"💬 Chat Window\")\n",
    "    user_input = st.text_input(\"Type your message below 👇\", placeholder=\"E.g., I wan send 2k go my mama account\")\n",
    "    if st.button(\"🎙️ Speak Instead\"):\n",
    "        user_input = recognize_speech()\n",
    "    if st.button(\"Send\") or user_input:\n",
    "        if user_input:\n",
    "            try:\n",
    "                language = detect(user_input)\n",
    "            except:\n",
    "                language = \"unknown\"\n",
    "            intent = classify_intent(user_input)\n",
    "            response = generate_response(user_input, language, intent)\n",
    "            st.session_state[\"log\"].append({\n",
    "                \"timestamp\": datetime.now().strftime(\"%Y-%m-%d %H:%M:%S\"),\n",
    "                \"user_input\": user_input,\n",
    "                \"language\": language,\n",
    "                \"intent\": intent,\n",
    "                \"response\": response\n",
    "            })\n",
    "            st.success(response)\n",
    "            speak_text(response)"
   ]
  },
  {
   "cell_type": "code",
   "execution_count": null,
   "id": "3e02c5f6-b9e4-498d-a303-633daf8b627c",
   "metadata": {},
   "outputs": [],
   "source": [
    "# Create real-time dashboard\n",
    "with col2:\n",
    "    st.subheader(\"📊 Real-Time Dashboard\")\n",
    "    if st.session_state[\"log\"]:\n",
    "        df = pd.DataFrame(st.session_state[\"log\"])\n",
    "        st.write(\"### Intent Distribution\")\n",
    "        st.bar_chart(df[\"intent\"].value_counts())\n",
    "        st.write(\"### Language Usage\")\n",
    "        st.bar_chart(df[\"language\"].value_counts())\n",
    "        st.write(\"### Last 10 Interactions\")\n",
    "        st.dataframe(df.tail(10), use_container_width=True)\n",
    "        csv = df.to_csv(index=False).encode(\"utf-8\")\n",
    "        st.download_button(\"⬇️ Download Log (CSV)\", data=csv, file_name=\"iya_bola_chat_log.csv\", mime=\"text/csv\")\n",
    "    else:\n",
    "        st.info(\"No chats yet. Start a conversation!\")"
   ]
  }
 ],
 "metadata": {
  "kernelspec": {
   "display_name": "Python 3 (ipykernel)",
   "language": "python",
   "name": "python3"
  },
  "language_info": {
   "codemirror_mode": {
    "name": "ipython",
    "version": 3
   },
   "file_extension": ".py",
   "mimetype": "text/x-python",
   "name": "python",
   "nbconvert_exporter": "python",
   "pygments_lexer": "ipython3",
   "version": "3.12.7"
  }
 },
 "nbformat": 4,
 "nbformat_minor": 5
}
